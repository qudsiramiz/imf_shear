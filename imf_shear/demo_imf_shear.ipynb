{
 "cells": [
  {
   "cell_type": "code",
   "execution_count": null,
   "metadata": {},
   "outputs": [],
   "source": [
    "import importlib\n",
    "import shear_angle_calculator as sac\n",
    "importlib.reload(sac)"
   ]
  },
  {
   "cell_type": "code",
   "execution_count": null,
   "metadata": {},
   "outputs": [],
   "source": [
    "inputs = {\n",
    "    \"b_imf\" : None,\n",
    "    \"np_imf\" : None,\n",
    "    \"v_imf\" : None,\n",
    "    \"min_max_val\" : 20,\n",
    "    \"dmp\" : None,\n",
    "    \"dr\" : None,\n",
    "    \"model_type\" : \"t96\",\n",
    "    \"angle_units\" : \"degrees\",\n",
    "    \"use_real_data\" : True,\n",
    "    \"time_observation\" : '2020-10-01 14:03:06',\n",
    "    \"dt\" : 5,\n",
    "    \"save_data\" : True,\n",
    "    \"data_file\" : None,\n",
    "    \"plot_figure\" : True,\n",
    "    \"clip_image\" : False,\n",
    "    \"save_figure\" : True,\n",
    "    \"figure_size\" : (6,6),\n",
    "    \"figure_file\" : \"shear_angle_calculator\",\n",
    "    \"figure_format\" : \"pdf\",\n",
    "    \"verbose\" : True\n",
    "}"
   ]
  },
  {
   "cell_type": "code",
   "execution_count": null,
   "metadata": {},
   "outputs": [],
   "source": [
    "shear = sac.shear_angle_calculator(**inputs)"
   ]
  },
  {
   "cell_type": "code",
   "execution_count": null,
   "metadata": {},
   "outputs": [],
   "source": []
  }
 ],
 "metadata": {
  "interpreter": {
   "hash": "43744fd4aaea345df2b2238683e4d69cf320d83774966df3c1b58ff10c81f37b"
  },
  "kernelspec": {
   "display_name": "Python 3.8.8 ('imf-shear-1Z--5zpf-py3.8')",
   "language": "python",
   "name": "python3"
  },
  "language_info": {
   "name": "python",
   "version": "3.8.8"
  },
  "orig_nbformat": 4
 },
 "nbformat": 4,
 "nbformat_minor": 2
}
